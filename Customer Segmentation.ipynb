{
 "cells": [
  {
   "cell_type": "markdown",
   "id": "7c96cf0e",
   "metadata": {},
   "source": [
    "# Use Case\n",
    "### Use Case Summary\n",
    "#### Objective Statement:\n",
    "- To analyze the monthly and yearly grand totals to identify trends and patterns.\n",
    "- To segment customers using the RFM model to identify high-value customers.\n",
    "- To develop marketing strategies to target high-value customers and increase revenue.\n",
    "\n",
    "#### Challenges:\n",
    "- The dataset is large and has different data types.\n",
    "- It is difficult to get the frequency of customer purchases using the Groupby method.\n",
    "\n",
    "#### Methodology / Analytic Technique:\n",
    "- Exploratory data analysis (EDA) will be used to identify trends and patterns in the data.\n",
    "- A clustering model will be used to segment customers into different groups based on the RFM model.\n",
    "- Segment analysis will be used to develop marketing strategies to target high-value customers.\n",
    "\n",
    "#### Business Benefit:\n",
    "- The business will be able to better understand its customers and their needs.\n",
    "- The business will be able to develop more effective marketing strategies to target high-value customers.\n",
    "- The business will be able to increase revenue by targeting high-value customers.\n",
    "\n",
    "#### Expected Outcome:\n",
    "- The business will know the grand total in each year.\n",
    "- The business will know the grand total per month in each year and the month with the highest and lowest grand total in each year.\n",
    "- The business will know the comparison of the grand total between each year and the month with the most significant decrease and increase in each year.\n",
    "- The business will be able to segment customers using the RFM model.\n",
    "- The business will know how to optimize marketing strategies to the right customers to generate more revenue.\n",
    "\n",
    "# Business Understanding\n",
    "Retail is the process of selling consumer goods or services to customers through multiple channels of distribution to earn a profit. In this case, we are interested in understanding the monthly and yearly grand totals of a retail business. We also want to segment customers using the RFM model and develop marketing strategies to target high-value customers.\n",
    "\n",
    "This case requires data-driven answers to the following questions:\n",
    "- How much is the grand total in each year? (This question will help us to understand the overall sales of the retail business over time.)\n",
    "- How much is the grand total per month in each year and which month has the highest and lowest grand total in each year? (This question will help us to identify the months that are typically the busiest and slowest for the retail business.)\n",
    "- How is the comparison of the grand total between each year and which month has the most significant decrease and increase in each year? (This question will help us to understand how the retail business is performing over time and which months are seeing the most significant changes in sales.)\n",
    "- How is the customer segmentation using RFM model? (This question will help us to identify different groups of customers based on their recency, frequency, and monetary value.)\n",
    "- How to optimize marketing strategies to the right customers to generate more revenue? (This question will help us to develop marketing strategies that are targeted to high-value customers.)\n",
    "\n",
    "\n",
    "# Data Understanding\n",
    "* The data set contains information about retail transactions from 4 January 2011 to 31 December 2014.\n",
    "* The dataset has 4 columns and 5009 rows.\n",
    "\n",
    "#### Data Source\n",
    "* Source Data: https://www.kaggle.com/datasets/siddinho/sample-orders-dataset-retail    \n",
    "\n",
    "#### Data Dictionary \n",
    "* Order Date \t: Transaction date\n",
    "* Order Id\t\t: Order code of each transaction\n",
    "* Customer\t\t: Customer's name\n",
    "* Grand Total\t: Total customer spending\n",
    "\n",
    "# Data Preparation\n",
    "Code Used :\n",
    "* Python Version :Python 3.8.8\n",
    "* Packages : Pandas, Numpy, Matplotlib, Seaborn, SKlearn,  Datetime, Plotly, Feature Engine, Warnings"
   ]
  },
  {
   "cell_type": "code",
   "execution_count": null,
   "id": "58336a8c",
   "metadata": {},
   "outputs": [],
   "source": [
    "import pandas as pd\n",
    "import numpy as np\n",
    "import matplotlib.pyplot as plt\n",
    "import seaborn as sns\n",
    "import datetime as dt\n",
    "import plotly.offline as pyoff\n",
    "import plotly.graph_objs as go\n",
    "from sklearn.preprocessing import StandardScaler\n",
    "from sklearn.metrics import davies_bouldin_score\n",
    "\n",
    "import feature_engine\n",
    "from feature_engine.outliers import Winsorizer\n",
    "\n",
    "import warnings\n",
    "warnings.filterwarnings(\"ignore\")"
   ]
  },
  {
   "cell_type": "markdown",
   "id": "964765ea",
   "metadata": {},
   "source": [
    "# Data Profiling"
   ]
  },
  {
   "cell_type": "markdown",
   "id": "d46b4550",
   "metadata": {},
   "source": [
    "Read the data from the CSV file data_orders.csv into a DataFrame variable called df"
   ]
  },
  {
   "cell_type": "code",
   "execution_count": null,
   "id": "8e86c9e7",
   "metadata": {},
   "outputs": [],
   "source": [
    "df = pd.read_csv('data_orders.csv')"
   ]
  },
  {
   "cell_type": "code",
   "execution_count": null,
   "id": "f317db7d",
   "metadata": {},
   "outputs": [
    {
     "data": {
      "text/html": [
       "<div>\n",
       "<style scoped>\n",
       "    .dataframe tbody tr th:only-of-type {\n",
       "        vertical-align: middle;\n",
       "    }\n",
       "\n",
       "    .dataframe tbody tr th {\n",
       "        vertical-align: top;\n",
       "    }\n",
       "\n",
       "    .dataframe thead th {\n",
       "        text-align: right;\n",
       "    }\n",
       "</style>\n",
       "<table border=\"1\" class=\"dataframe\">\n",
       "  <thead>\n",
       "    <tr style=\"text-align: right;\">\n",
       "      <th></th>\n",
       "      <th>order_date</th>\n",
       "      <th>order_id</th>\n",
       "      <th>customer</th>\n",
       "      <th>grand_total</th>\n",
       "    </tr>\n",
       "  </thead>\n",
       "  <tbody>\n",
       "    <tr>\n",
       "      <th>0</th>\n",
       "      <td>9/7/2011</td>\n",
       "      <td>CA-2011-100006</td>\n",
       "      <td>Dennis Kane</td>\n",
       "      <td>378</td>\n",
       "    </tr>\n",
       "    <tr>\n",
       "      <th>1</th>\n",
       "      <td>7/8/2011</td>\n",
       "      <td>CA-2011-100090</td>\n",
       "      <td>Ed Braxton</td>\n",
       "      <td>699</td>\n",
       "    </tr>\n",
       "    <tr>\n",
       "      <th>2</th>\n",
       "      <td>3/14/2011</td>\n",
       "      <td>CA-2011-100293</td>\n",
       "      <td>Neil Franzšsisch</td>\n",
       "      <td>91</td>\n",
       "    </tr>\n",
       "    <tr>\n",
       "      <th>3</th>\n",
       "      <td>1/29/2011</td>\n",
       "      <td>CA-2011-100328</td>\n",
       "      <td>Jasper Cacioppo</td>\n",
       "      <td>4</td>\n",
       "    </tr>\n",
       "    <tr>\n",
       "      <th>4</th>\n",
       "      <td>4/8/2011</td>\n",
       "      <td>CA-2011-100363</td>\n",
       "      <td>Jim Mitchum</td>\n",
       "      <td>21</td>\n",
       "    </tr>\n",
       "  </tbody>\n",
       "</table>\n",
       "</div>"
      ],
      "text/plain": [
       "  order_date        order_id          customer  grand_total\n",
       "0   9/7/2011  CA-2011-100006       Dennis Kane          378\n",
       "1   7/8/2011  CA-2011-100090        Ed Braxton          699\n",
       "2  3/14/2011  CA-2011-100293  Neil Franzšsisch           91\n",
       "3  1/29/2011  CA-2011-100328   Jasper Cacioppo            4\n",
       "4   4/8/2011  CA-2011-100363       Jim Mitchum           21"
      ]
     },
     "metadata": {},
     "output_type": "display_data"
    }
   ],
   "source": [
    "df.head()"
   ]
  },
  {
   "cell_type": "code",
   "execution_count": null,
   "id": "a07ad79c",
   "metadata": {},
   "outputs": [
    {
     "name": "stdout",
     "output_type": "stream",
     "text": [
      "<class 'pandas.core.frame.DataFrame'>\n",
      "RangeIndex: 5009 entries, 0 to 5008\n",
      "Data columns (total 4 columns):\n",
      " #   Column       Non-Null Count  Dtype \n",
      "---  ------       --------------  ----- \n",
      " 0   order_date   5009 non-null   object\n",
      " 1   order_id     5009 non-null   object\n",
      " 2   customer     5009 non-null   object\n",
      " 3   grand_total  5009 non-null   int64 \n",
      "dtypes: int64(1), object(3)\n",
      "memory usage: 156.7+ KB\n"
     ]
    }
   ],
   "source": [
    "df.info()"
   ]
  },
  {
   "cell_type": "code",
   "execution_count": null,
   "id": "26c5557e",
   "metadata": {},
   "outputs": [
    {
     "data": {
      "text/plain": [
       "order_date     1238\n",
       "order_id       5009\n",
       "customer        793\n",
       "grand_total    1358\n",
       "dtype: int64"
      ]
     },
     "metadata": {},
     "output_type": "display_data"
    }
   ],
   "source": [
    "df.nunique()"
   ]
  },
  {
   "cell_type": "code",
   "execution_count": null,
   "id": "93ad66c0",
   "metadata": {},
   "outputs": [
    {
     "name": "stdout",
     "output_type": "stream",
     "text": [
      "order_date     0\n",
      "order_id       0\n",
      "customer       0\n",
      "grand_total    0\n",
      "dtype: int64\n"
     ]
    }
   ],
   "source": [
    "print(df.isnull().sum())"
   ]
  },
  {
   "cell_type": "markdown",
   "id": "09cd4238",
   "metadata": {},
   "source": [
    "The is no null value in this dataset"
   ]
  },
  {
   "cell_type": "code",
   "execution_count": null,
   "id": "9821dd30",
   "metadata": {},
   "outputs": [
    {
     "data": {
      "text/html": [
       "<div>\n",
       "<style scoped>\n",
       "    .dataframe tbody tr th:only-of-type {\n",
       "        vertical-align: middle;\n",
       "    }\n",
       "\n",
       "    .dataframe tbody tr th {\n",
       "        vertical-align: top;\n",
       "    }\n",
       "\n",
       "    .dataframe thead th {\n",
       "        text-align: right;\n",
       "    }\n",
       "</style>\n",
       "<table border=\"1\" class=\"dataframe\">\n",
       "  <thead>\n",
       "    <tr style=\"text-align: right;\">\n",
       "      <th></th>\n",
       "      <th>grand_total</th>\n",
       "    </tr>\n",
       "  </thead>\n",
       "  <tbody>\n",
       "    <tr>\n",
       "      <th>count</th>\n",
       "      <td>5009.000000</td>\n",
       "    </tr>\n",
       "    <tr>\n",
       "      <th>mean</th>\n",
       "      <td>458.626672</td>\n",
       "    </tr>\n",
       "    <tr>\n",
       "      <th>std</th>\n",
       "      <td>954.729307</td>\n",
       "    </tr>\n",
       "    <tr>\n",
       "      <th>min</th>\n",
       "      <td>1.000000</td>\n",
       "    </tr>\n",
       "    <tr>\n",
       "      <th>25%</th>\n",
       "      <td>38.000000</td>\n",
       "    </tr>\n",
       "    <tr>\n",
       "      <th>50%</th>\n",
       "      <td>152.000000</td>\n",
       "    </tr>\n",
       "    <tr>\n",
       "      <th>75%</th>\n",
       "      <td>512.000000</td>\n",
       "    </tr>\n",
       "    <tr>\n",
       "      <th>max</th>\n",
       "      <td>23661.000000</td>\n",
       "    </tr>\n",
       "  </tbody>\n",
       "</table>\n",
       "</div>"
      ],
      "text/plain": [
       "        grand_total\n",
       "count   5009.000000\n",
       "mean     458.626672\n",
       "std      954.729307\n",
       "min        1.000000\n",
       "25%       38.000000\n",
       "50%      152.000000\n",
       "75%      512.000000\n",
       "max    23661.000000"
      ]
     },
     "metadata": {},
     "output_type": "display_data"
    }
   ],
   "source": [
    "df.describe()"
   ]
  },
  {
   "cell_type": "markdown",
   "id": "94375aba",
   "metadata": {},
   "source": [
    "The dataset contains 5,009 rows of data, each with a grand total amount. The average grand total is 458.6, meaning that most transactions are around this amount. The minimum grand total is 1, and the maximum is 23,661. This shows that there is a wide range of transaction sizes in the dataset.\n",
    "\n"
   ]
  },
  {
   "cell_type": "markdown",
   "id": "2c980931",
   "metadata": {},
   "source": [
    "# Data Cleaning"
   ]
  },
  {
   "cell_type": "markdown",
   "id": "6a9ead61",
   "metadata": {},
   "source": [
    "#### Change the data type of the order_date column from object to datetime"
   ]
  },
  {
   "cell_type": "code",
   "execution_count": null,
   "id": "7fecf283",
   "metadata": {},
   "outputs": [],
   "source": [
    "df['order_date'] = pd.to_datetime(df['order_date'])"
   ]
  },
  {
   "cell_type": "markdown",
   "id": "57a83f46",
   "metadata": {},
   "source": [
    "#### Create a new column that takes only the year and month from the order_date column"
   ]
  },
  {
   "cell_type": "code",
   "execution_count": null,
   "id": "d1569934",
   "metadata": {},
   "outputs": [],
   "source": [
    "df['date'] = df['order_date'].dt.strftime('%Y-%m')"
   ]
  },
  {
   "cell_type": "code",
   "execution_count": null,
   "id": "8a9cde6a",
   "metadata": {},
   "outputs": [
    {
     "data": {
      "text/html": [
       "<div>\n",
       "<style scoped>\n",
       "    .dataframe tbody tr th:only-of-type {\n",
       "        vertical-align: middle;\n",
       "    }\n",
       "\n",
       "    .dataframe tbody tr th {\n",
       "        vertical-align: top;\n",
       "    }\n",
       "\n",
       "    .dataframe thead th {\n",
       "        text-align: right;\n",
       "    }\n",
       "</style>\n",
       "<table border=\"1\" class=\"dataframe\">\n",
       "  <thead>\n",
       "    <tr style=\"text-align: right;\">\n",
       "      <th></th>\n",
       "      <th>order_date</th>\n",
       "      <th>order_id</th>\n",
       "      <th>customer</th>\n",
       "      <th>grand_total</th>\n",
       "      <th>date</th>\n",
       "    </tr>\n",
       "  </thead>\n",
       "  <tbody>\n",
       "    <tr>\n",
       "      <th>0</th>\n",
       "      <td>2011-09-07</td>\n",
       "      <td>CA-2011-100006</td>\n",
       "      <td>Dennis Kane</td>\n",
       "      <td>378</td>\n",
       "      <td>2011-09</td>\n",
       "    </tr>\n",
       "    <tr>\n",
       "      <th>1</th>\n",
       "      <td>2011-07-08</td>\n",
       "      <td>CA-2011-100090</td>\n",
       "      <td>Ed Braxton</td>\n",
       "      <td>699</td>\n",
       "      <td>2011-07</td>\n",
       "    </tr>\n",
       "    <tr>\n",
       "      <th>2</th>\n",
       "      <td>2011-03-14</td>\n",
       "      <td>CA-2011-100293</td>\n",
       "      <td>Neil Franzšsisch</td>\n",
       "      <td>91</td>\n",
       "      <td>2011-03</td>\n",
       "    </tr>\n",
       "    <tr>\n",
       "      <th>3</th>\n",
       "      <td>2011-01-29</td>\n",
       "      <td>CA-2011-100328</td>\n",
       "      <td>Jasper Cacioppo</td>\n",
       "      <td>4</td>\n",
       "      <td>2011-01</td>\n",
       "    </tr>\n",
       "    <tr>\n",
       "      <th>4</th>\n",
       "      <td>2011-04-08</td>\n",
       "      <td>CA-2011-100363</td>\n",
       "      <td>Jim Mitchum</td>\n",
       "      <td>21</td>\n",
       "      <td>2011-04</td>\n",
       "    </tr>\n",
       "  </tbody>\n",
       "</table>\n",
       "</div>"
      ],
      "text/plain": [
       "  order_date        order_id          customer  grand_total     date\n",
       "0 2011-09-07  CA-2011-100006       Dennis Kane          378  2011-09\n",
       "1 2011-07-08  CA-2011-100090        Ed Braxton          699  2011-07\n",
       "2 2011-03-14  CA-2011-100293  Neil Franzšsisch           91  2011-03\n",
       "3 2011-01-29  CA-2011-100328   Jasper Cacioppo            4  2011-01\n",
       "4 2011-04-08  CA-2011-100363       Jim Mitchum           21  2011-04"
      ]
     },
     "metadata": {},
     "output_type": "display_data"
    }
   ],
   "source": [
    "df.head()"
   ]
  },
  {
   "cell_type": "markdown",
   "id": "940206b8",
   "metadata": {},
   "source": [
    "The new column \"date\" has been added"
   ]
  },
  {
   "cell_type": "markdown",
   "id": "86817cb9",
   "metadata": {},
   "source": [
    "# Exploratory Data Analysis"
   ]
  },
  {
   "cell_type": "code",
   "execution_count": null,
   "id": "ec637a51",
   "metadata": {},
   "outputs": [],
   "source": [
    "# make function that shows percentage of data\n",
    "def show_percent(data, values):\n",
    "    data[\"percent\"] = round(data[values]*100/data[values].sum(),1)\n",
    "    print(data)"
   ]
  },
  {
   "cell_type": "code",
   "execution_count": null,
   "id": "029a0fb6",
   "metadata": {},
   "outputs": [],
   "source": [
    "# make function that returns percentage of data\n",
    "def get_percent(data, values):\n",
    "    data = round(data[values]*100/data[values].sum(),1)\n",
    "    return data"
   ]
  },
  {
   "cell_type": "markdown",
   "id": "fe684f79",
   "metadata": {},
   "source": [
    "* #### group data by month"
   ]
  },
  {
   "cell_type": "markdown",
   "id": "713eb733",
   "metadata": {},
   "source": [
    "The code below groups the df DataFrame by the date column and then sums the grand_total column for each group. This creates a new DataFrame called df_agg that contains the date and the total grand total for each day.\n",
    "\n",
    "The code then converts the date column to the datetime dtype. This is necessary because the groupby() method requires the grouping columns to be of the datetime dtype.\n"
   ]
  },
  {
   "cell_type": "code",
   "execution_count": null,
   "id": "c59cbc9f",
   "metadata": {},
   "outputs": [
    {
     "data": {
      "text/html": [
       "<div>\n",
       "<style scoped>\n",
       "    .dataframe tbody tr th:only-of-type {\n",
       "        vertical-align: middle;\n",
       "    }\n",
       "\n",
       "    .dataframe tbody tr th {\n",
       "        vertical-align: top;\n",
       "    }\n",
       "\n",
       "    .dataframe thead th {\n",
       "        text-align: right;\n",
       "    }\n",
       "</style>\n",
       "<table border=\"1\" class=\"dataframe\">\n",
       "  <thead>\n",
       "    <tr style=\"text-align: right;\">\n",
       "      <th></th>\n",
       "      <th>date</th>\n",
       "      <th>grand_total</th>\n",
       "    </tr>\n",
       "  </thead>\n",
       "  <tbody>\n",
       "    <tr>\n",
       "      <th>0</th>\n",
       "      <td>2011-01-01</td>\n",
       "      <td>13949</td>\n",
       "    </tr>\n",
       "    <tr>\n",
       "      <th>1</th>\n",
       "      <td>2011-02-01</td>\n",
       "      <td>4810</td>\n",
       "    </tr>\n",
       "    <tr>\n",
       "      <th>2</th>\n",
       "      <td>2011-03-01</td>\n",
       "      <td>55695</td>\n",
       "    </tr>\n",
       "    <tr>\n",
       "      <th>3</th>\n",
       "      <td>2011-04-01</td>\n",
       "      <td>28298</td>\n",
       "    </tr>\n",
       "    <tr>\n",
       "      <th>4</th>\n",
       "      <td>2011-05-01</td>\n",
       "      <td>23647</td>\n",
       "    </tr>\n",
       "  </tbody>\n",
       "</table>\n",
       "</div>"
      ],
      "text/plain": [
       "        date  grand_total\n",
       "0 2011-01-01        13949\n",
       "1 2011-02-01         4810\n",
       "2 2011-03-01        55695\n",
       "3 2011-04-01        28298\n",
       "4 2011-05-01        23647"
      ]
     },
     "metadata": {},
     "output_type": "display_data"
    }
   ],
   "source": [
    "df_agg = df.groupby('date').grand_total.sum()\n",
    "df_agg = pd.DataFrame(df_agg)\n",
    "df_agg = df_agg.reset_index()\n",
    "df_agg['date'] = pd.to_datetime(df_agg['date'])\n",
    "df_agg.head()"
   ]
  },
  {
   "cell_type": "code",
   "execution_count": null,
   "id": "4e6dfbc2",
   "metadata": {},
   "outputs": [],
   "source": [
    "df_2011 = df_agg[df_agg['date'].dt.year == 2011]\n",
    "df_2012 = df_agg[df_agg['date'].dt.year == 2012]\n",
    "df_2013 = df_agg[df_agg['date'].dt.year == 2013]\n",
    "df_2014 = df_agg[df_agg['date'].dt.year == 2014]"
   ]
  },
  {
   "cell_type": "code",
   "execution_count": null,
   "id": "14d11d9d",
   "metadata": {},
   "outputs": [
    {
     "name": "stdout",
     "output_type": "stream",
     "text": [
      "         date  grand_total  percent\n",
      "0  2011-01-01        13949      2.9\n",
      "1  2011-02-01         4810      1.0\n",
      "2  2011-03-01        55695     11.5\n",
      "3  2011-04-01        28298      5.8\n",
      "4  2011-05-01        23647      4.9\n",
      "5  2011-06-01        34593      7.1\n",
      "6  2011-07-01        33945      7.0\n",
      "7  2011-08-01        27910      5.8\n",
      "8  2011-09-01        81784     16.9\n",
      "9  2011-10-01        31449      6.5\n",
      "10 2011-11-01        78633     16.2\n",
      "11 2011-12-01        69547     14.4\n"
     ]
    },
    {
     "data": {
      "image/png": "[encoded data removed]",
      "text/plain": [
       "<Figure size 1152x360 with 1 Axes>"
      ]
     },
     "metadata": {},
     "output_type": "display_data"
    }
   ],
   "source": [
    "show_percent(data=df_2011 ,values=\"grand_total\")\n",
    "\n",
    "plt.figure(figsize=(16,5))\n",
    "plt.title('Grand Total in 2011')\n",
    "plt.plot(df_2011.date.dt.month, df_2011.grand_total, marker='o')\n",
    "plt.xticks(df_2011.date.dt.month)\n",
    "plt.ylabel('Grand Total')\n",
    "plt.xlabel('Month')\n",
    "plt.show()"
   ]
  },
  {
   "cell_type": "markdown",
   "id": "f0f75429",
   "metadata": {},
   "source": [
    "The graph shows the total sales for each month of the year 2011. **February had the lowest total sales of 1%**, while **September had the highest total sales of 16.9%**.\n",
    "\n",
    "There were a few significant changes in total sales throughout the year. From January to February, there was a decrease of 1.9%. From February to March, there was a significant increase of 10.5%. From March to April, there was a decrease of 5.7%. From April to August, there was no significant change in total sales. From August to September, there was an increase of 11.1%. From September to October, there was a large decrease of 10%. From October to November, there was an increase of 9.7%. And in November, the total sales for the year closed at 14.4%.\n",
    "\n",
    "**September was the month that experienced the biggest increase in total sales of 11.1%**. **October was the month that experienced the biggest decrease in total sales of 10.4%**."
   ]
  },
  {
   "cell_type": "code",
   "execution_count": null,
   "id": "a070bbef",
   "metadata": {},
   "outputs": [
    {
     "name": "stdout",
     "output_type": "stream",
     "text": [
      "         date  grand_total  percent\n",
      "12 2012-01-01        18174      3.9\n",
      "13 2012-02-01        12211      2.6\n",
      "14 2012-03-01        38469      8.2\n",
      "15 2012-04-01        34196      7.3\n",
      "16 2012-05-01        30137      6.4\n",
      "17 2012-06-01        24800      5.3\n",
      "18 2012-07-01        28767      6.1\n",
      "19 2012-08-01        36898      7.8\n",
      "20 2012-09-01        64595     13.7\n",
      "21 2012-10-01        31406      6.7\n",
      "22 2012-11-01        75968     16.1\n",
      "23 2012-12-01        74918     15.9\n"
     ]
    },
    {
     "data": {
      "image/png": "[encoded data removed]",
      "text/plain": [
       "<Figure size 1152x360 with 1 Axes>"
      ]
     },
     "metadata": {},
     "output_type": "display_data"
    }
   ],
   "source": [
    "show_percent(data=df_2012 ,values=\"grand_total\")\n",
    "\n",
    "plt.figure(figsize=(16,5))\n",
    "plt.title('Grand Total in 2012')\n",
    "plt.plot(df_2012.date.dt.month, df_2012.grand_total, marker='o')\n",
    "plt.xticks(df_2012.date.dt.month)\n",
    "plt.ylabel('Grand Total')\n",
    "plt.xlabel('Month')\n",
    "plt.show()"
   ]
  },
  {
   "cell_type": "markdown",
   "id": "4369487f",
   "metadata": {},
   "source": [
    "The graph shows the grand total for each month of the year 2012. **February had the lowest grand total of 2.6%**, while **November had the highest grand total of 16.1%**.\n",
    "\n",
    "There were a few significant changes in grand total throughout the year. In January 2012, the grand total was higher than in January 2011 to 3.9%. February had the lowest grand total of 2.6%. March experienced a significant increase to 8.2%, and April had a slight decrease to 7.3%. May and June had further decreases to 6.4% and 5.3%, respectively. In July, the grand total increased again to 6.1%. August had an increase to 7.8%, and September had a significant increase to 13.7%. October had a significant decrease to 6.7%. The end of the year had very high grand totals, with November at 16.1% and December at 15.9%.\n",
    "\n",
    "**October was the month that experienced the biggest increase in grand total of 9.4%**, from 6.7% in September to 16.1% in October. **October was also the month that experienced the biggest decrease in grand total of 7%**, from 13.7% in September to 6.7% in October."
   ]
  },
  {
   "cell_type": "code",
   "execution_count": null,
   "id": "c73830b6",
   "metadata": {},
   "outputs": [
    {
     "name": "stdout",
     "output_type": "stream",
     "text": [
      "         date  grand_total  percent\n",
      "24 2013-01-01        18543      3.0\n",
      "25 2013-02-01        22867      3.8\n",
      "26 2013-03-01        51185      8.4\n",
      "27 2013-04-01        39251      6.5\n",
      "28 2013-05-01        56693      9.3\n",
      "29 2013-06-01        39431      6.5\n",
      "30 2013-07-01        38440      6.3\n",
      "31 2013-08-01        33261      5.5\n",
      "32 2013-09-01        72909     12.0\n",
      "33 2013-10-01        56463      9.3\n",
      "34 2013-11-01        82190     13.5\n",
      "35 2013-12-01        97244     16.0\n"
     ]
    },
    {
     "data": {
      "image/png": "[encoded data removed]",
      "text/plain": [
       "<Figure size 1152x360 with 1 Axes>"
      ]
     },
     "metadata": {},
     "output_type": "display_data"
    }
   ],
   "source": [
    "show_percent(data=df_2013 ,values=\"grand_total\")\n",
    "\n",
    "plt.figure(figsize=(16,5))\n",
    "plt.title('Grand Total in 2013')\n",
    "plt.plot(df_2013.date.dt.month, df_2013.grand_total, marker='o')\n",
    "plt.xticks(df_2013.date.dt.month)\n",
    "plt.ylabel('Grand Total')\n",
    "plt.xlabel('Month')\n",
    "plt.show()"
   ]
  },
  {
   "cell_type": "markdown",
   "id": "48d5de21",
   "metadata": {},
   "source": [
    "The graph shows the grand total for each month of the year 2013. **January had the lowest grand total of 3%**, while **December had the highest grand total of 16%**.\n",
    "\n",
    "There were a few significant changes in grand total throughout the year. January started with a relatively low grand total of 3%. In February, it increased to 3.8%, and in March it increased to 8.4%. April had a decrease to 6.5%, and May had an increase to 9.3%. June had a decrease to 6.5%. The highest grand total in the first half of the year was in May with 9.3%.\n",
    "\n",
    "Entering the second half of 2013, the grand total for July and August did not differ significantly, with 6.3% and 5.5%, respectively. In September, there was a significant increase in the grand total of up to 12%. Sales tend to increase at the end of the year, with 14% in November and 16% in December.\n",
    "\n",
    "**September was the month that experienced the biggest increase in grand total of 6.5%**, from 5.5% in August to 12% in September. **June was the month that experienced the biggest decrease in grand total of 2.8%**, from 9.3% in May to 6.5% in June."
   ]
  },
  {
   "cell_type": "code",
   "execution_count": null,
   "id": "aeb1c0c2",
   "metadata": {},
   "outputs": [
    {
     "name": "stdout",
     "output_type": "stream",
     "text": [
      "         date  grand_total  percent\n",
      "36 2014-01-01        44708      6.1\n",
      "37 2014-02-01        20287      2.8\n",
      "38 2014-03-01        53917      7.3\n",
      "39 2014-04-01        40110      5.5\n",
      "40 2014-05-01        45655      6.2\n",
      "41 2014-06-01        48256      6.6\n",
      "42 2014-07-01        48429      6.6\n",
      "43 2014-08-01        61517      8.4\n",
      "44 2014-09-01        90495     12.3\n",
      "45 2014-10-01        77802     10.6\n",
      "46 2014-11-01       112329     15.3\n",
      "47 2014-12-01        90480     12.3\n"
     ]
    },
    {
     "data": {
      "image/png": "[encoded data removed]",
      "text/plain": [
       "<Figure size 1152x360 with 1 Axes>"
      ]
     },
     "metadata": {},
     "output_type": "display_data"
    }
   ],
   "source": [
    "show_percent(data=df_2014 ,values=\"grand_total\")\n",
    "\n",
    "plt.figure(figsize=(16,5))\n",
    "plt.title('Grand Total in 2014')\n",
    "plt.plot(df_2014.date.dt.month, df_2014.grand_total, marker='o')\n",
    "plt.xticks(df_2014.date.dt.month)\n",
    "plt.ylabel('Grand Total')\n",
    "plt.xlabel('Month')\n",
    "plt.show()"
   ]
  },
  {
   "cell_type": "markdown",
   "id": "04b5baf9",
   "metadata": {},
   "source": [
    "The graph shows the grand total for each month of the year 2014. **February had the lowest grand total of 2.8%**, while **November had the highest grand total of 15.3%**.\n",
    "\n",
    "There were a few significant changes in grand total throughout the year. January started with a grand total of 6.1%, which was higher than the previous year. February had a decrease to 2.8%, and March had a significant increase to 7.3%. April had a gradual increase in grand total to 5.5%, followed by a further increase to 6.2% in May and 6.6% in June. The grand total was stagnant at 6.6% from June to July. August had an increase in grand total to 8.4%, followed by an increase to 12.3% in September. October had a decrease in grand total to 10.6%, before November had a significant increase to 15.3%. December had a decrease in grand total to 12.3%.\n",
    "\n",
    "**November was the month that experienced the largest increase in grand total of 4.7%**, from 10.6% in October to 15.3% in November. **February was the month that experienced the biggest decrease in grand total of 3.3%**, from 6.1% in January to 2.8% in February."
   ]
  },
  {
   "cell_type": "markdown",
   "id": "77b17926",
   "metadata": {},
   "source": [
    "* #### group data by year"
   ]
  },
  {
   "cell_type": "markdown",
   "id": "b69aeece",
   "metadata": {},
   "source": [
    "The code below groups the df DataFrame by the year of the order_date column. Then, it sums the grand_total column for each group. This creates a new DataFrame called df_year that contains the year and the total grand total for each year."
   ]
  },
  {
   "cell_type": "code",
   "execution_count": null,
   "id": "3d2735c1",
   "metadata": {},
   "outputs": [
    {
     "data": {
      "text/html": [
       "<div>\n",
       "<style scoped>\n",
       "    .dataframe tbody tr th:only-of-type {\n",
       "        vertical-align: middle;\n",
       "    }\n",
       "\n",
       "    .dataframe tbody tr th {\n",
       "        vertical-align: top;\n",
       "    }\n",
       "\n",
       "    .dataframe thead th {\n",
       "        text-align: right;\n",
       "    }\n",
       "</style>\n",
       "<table border=\"1\" class=\"dataframe\">\n",
       "  <thead>\n",
       "    <tr style=\"text-align: right;\">\n",
       "      <th></th>\n",
       "      <th>order_date</th>\n",
       "      <th>grand_total</th>\n",
       "    </tr>\n",
       "  </thead>\n",
       "  <tbody>\n",
       "    <tr>\n",
       "      <th>0</th>\n",
       "      <td>2011</td>\n",
       "      <td>484260</td>\n",
       "    </tr>\n",
       "    <tr>\n",
       "      <th>1</th>\n",
       "      <td>2012</td>\n",
       "      <td>470539</td>\n",
       "    </tr>\n",
       "    <tr>\n",
       "      <th>2</th>\n",
       "      <td>2013</td>\n",
       "      <td>608477</td>\n",
       "    </tr>\n",
       "    <tr>\n",
       "      <th>3</th>\n",
       "      <td>2014</td>\n",
       "      <td>733985</td>\n",
       "    </tr>\n",
       "  </tbody>\n",
       "</table>\n",
       "</div>"
      ],
      "text/plain": [
       "   order_date  grand_total\n",
       "0        2011       484260\n",
       "1        2012       470539\n",
       "2        2013       608477\n",
       "3        2014       733985"
      ]
     },
     "metadata": {},
     "output_type": "display_data"
    }
   ],
   "source": [
    "df_year = df.groupby(df.order_date.dt.year).grand_total.sum()\n",
    "df_year = pd.DataFrame(df_year)\n",
    "df_year = df_year.reset_index()\n",
    "df_year.head()"
   ]
  },
  {
   "cell_type": "code",
   "execution_count": null,
   "id": "0921cc99",
   "metadata": {},
   "outputs": [
    {
     "name": "stdout",
     "output_type": "stream",
     "text": [
      "   order_date  grand_total  percent\n",
      "0        2011       484260     21.1\n",
      "1        2012       470539     20.5\n",
      "2        2013       608477     26.5\n",
      "3        2014       733985     32.0\n"
     ]
    },
    {
     "data": {
      "image/png": "[encoded data removed]",
      "text/plain": [
       "<Figure size 1152x360 with 1 Axes>"
      ]
     },
     "metadata": {},
     "output_type": "display_data"
    }
   ],
   "source": [
    "show_percent(data=df_year ,values=\"grand_total\")\n",
    "\n",
    "plt.figure(figsize=(16,5))\n",
    "plt.title('Grand Total by Date')\n",
    "plt.plot(df_2011.date.dt.month, df_2011.grand_total, label='2011')\n",
    "plt.plot(df_2012.date.dt.month, df_2012.grand_total, label='2012')\n",
    "plt.plot(df_2013.date.dt.month, df_2013.grand_total, label='2013')\n",
    "plt.plot(df_2014.date.dt.month, df_2014.grand_total, label='2014')\n",
    "plt.xticks(df_2014.date.dt.month)\n",
    "plt.legend(loc='upper left')\n",
    "plt.ylabel('Grand Total')\n",
    "plt.xlabel('Month')\n",
    "plt.show()"
   ]
  },
  {
   "cell_type": "markdown",
   "id": "446a6ab5",
   "metadata": {},
   "source": [
    "The graph shows the total monthly income for each year. **2014 had the highest total income every month**. There are several patterns that are similar in each year:\n",
    "\n",
    "* From February to March, there is an increase in total income.\n",
    "* From August to September, there is also an increase in total income, but from September to October, there is a decrease.\n",
    "* In October to November, there is an increase in total income.\n",
    "* It is estimated that the increase in total income in November is due to the Black Friday event, which is held every year.\n",
    "\n",
    "The green line (2013) is slightly different from the other years at the beginning and end of the year. In 2013, there was an increase in income from January to February, and from October to December."
   ]
  },
  {
   "cell_type": "code",
   "execution_count": null,
   "id": "eaea5095",
   "metadata": {},
   "outputs": [
    {
     "data": {
      "image/png": "[encoded data removed]",
      "text/plain": [
       "<Figure size 432x288 with 1 Axes>"
      ]
     },
     "metadata": {},
     "output_type": "display_data"
    }
   ],
   "source": [
    "percentage = get_percent(data=df_year ,values=\"grand_total\")\n",
    "\n",
    "ax = sns.barplot(data = df_year, palette = 'mako', x= 'order_date' , y = 'grand_total')\n",
    "patches = ax.patches\n",
    "for i in range(len(patches)):\n",
    "    x = patches[i].get_x() + patches[i].get_width()/2\n",
    "    y = patches[i].get_height()*1.01\n",
    "    ax.annotate('{:.1f}%'.format(percentage[i]), (x, y), ha='center')\n",
    "\n",
    "plt.xlabel('Year')\n",
    "plt.ylabel('Grand Total')\n",
    "plt.show()"
   ]
  },
  {
   "cell_type": "markdown",
   "id": "1a621162",
   "metadata": {},
   "source": [
    "The chart shows the grand total for each year. **The lowest grand total was in 2012 at 20.5%**, while **the highest grand total was in 2014 at 32%**.\n",
    "\n",
    "There was a decrease in total sales in 2012 from 0.6% in 2011. However, there was an increase in total sales in 2013 and 2014.\n",
    "\n",
    "In 2011, the grand total was 21%. In 2012, total sales decreased by 0.6% to 20%. In 2013, the grand total increased by 5.1% to 26.5%. In 2014, the grand total increased by 5.5% to 32%."
   ]
  },
  {
   "cell_type": "markdown",
   "id": "f635f7f9",
   "metadata": {},
   "source": [
    "# Preprocessing Modeling\n",
    "# RFM Analysis\n",
    "RFM analysis is basically scoring our customers based on their Recency, Frequency and Monetary values.\n",
    "\n",
    "Recency : How long it’s been since a customer bought something from us.\n",
    "\n",
    "Frequency : How often a customer buys from us.\n",
    "\n",
    "Monetary : The total value of purchases a customer has made"
   ]
  },
  {
   "cell_type": "code",
   "execution_count": null,
   "id": "e807225d",
   "metadata": {},
   "outputs": [
    {
     "name": "stdout",
     "output_type": "stream",
     "text": [
      "2011-01-04 00:00:00\n",
      "2014-12-31 00:00:00\n",
      "The data is from a 4-year transaction\n"
     ]
    }
   ],
   "source": [
    "print(df[\"order_date\"].min())\n",
    "print(df[\"order_date\"].max())\n",
    "print(\"The data is from a 4-year transaction\")"
   ]
  },
  {
   "cell_type": "code",
   "execution_count": null,
   "id": "3dbf3ed9",
   "metadata": {},
   "outputs": [],
   "source": [
    "NOW = dt.date(2014,12,31) \n",
    "df['date'] = pd.DatetimeIndex(df.order_date).date"
   ]
  },
  {
   "cell_type": "markdown",
   "id": "2c53bdc2",
   "metadata": {},
   "source": [
    "The code below groups the df DataFrame by the customer column, takes the maximum value of the date column for each group, creates a new column called Recency that contains the number of days since the last purchase for each customer, and drops the Last_Purchase_Date column."
   ]
  },
  {
   "cell_type": "code",
   "execution_count": null,
   "id": "f1d654d4",
   "metadata": {},
   "outputs": [
    {
     "data": {
      "text/html": [
       "<div>\n",
       "<style scoped>\n",
       "    .dataframe tbody tr th:only-of-type {\n",
       "        vertical-align: middle;\n",
       "    }\n",
       "\n",
       "    .dataframe tbody tr th {\n",
       "        vertical-align: top;\n",
       "    }\n",
       "\n",
       "    .dataframe thead th {\n",
       "        text-align: right;\n",
       "    }\n",
       "</style>\n",
       "<table border=\"1\" class=\"dataframe\">\n",
       "  <thead>\n",
       "    <tr style=\"text-align: right;\">\n",
       "      <th></th>\n",
       "      <th>customer</th>\n",
       "      <th>Recency</th>\n",
       "    </tr>\n",
       "  </thead>\n",
       "  <tbody>\n",
       "    <tr>\n",
       "      <th>0</th>\n",
       "      <td>Aaron Bergman</td>\n",
       "      <td>415</td>\n",
       "    </tr>\n",
       "    <tr>\n",
       "      <th>1</th>\n",
       "      <td>Aaron Hawkins</td>\n",
       "      <td>12</td>\n",
       "    </tr>\n",
       "    <tr>\n",
       "      <th>2</th>\n",
       "      <td>Aaron Smayling</td>\n",
       "      <td>88</td>\n",
       "    </tr>\n",
       "    <tr>\n",
       "      <th>3</th>\n",
       "      <td>Adam Bellavance</td>\n",
       "      <td>54</td>\n",
       "    </tr>\n",
       "    <tr>\n",
       "      <th>4</th>\n",
       "      <td>Adam Hart</td>\n",
       "      <td>34</td>\n",
       "    </tr>\n",
       "  </tbody>\n",
       "</table>\n",
       "</div>"
      ],
      "text/plain": [
       "          customer  Recency\n",
       "0    Aaron Bergman      415\n",
       "1    Aaron Hawkins       12\n",
       "2   Aaron Smayling       88\n",
       "3  Adam Bellavance       54\n",
       "4        Adam Hart       34"
      ]
     },
     "metadata": {},
     "output_type": "display_data"
    }
   ],
   "source": [
    "df_recency = df.groupby(['customer'], as_index = False)['date'].max()\n",
    "df_recency.columns = ['customer', 'Last_Purchase_Date']\n",
    "\n",
    "df_recency['Recency'] = df_recency.Last_Purchase_Date.apply(lambda x: (NOW - x).days)\n",
    "df_recency.drop(columns=['Last_Purchase_Date'], inplace = True)\n",
    "df_recency.head()"
   ]
  },
  {
   "cell_type": "markdown",
   "id": "f3c13949",
   "metadata": {},
   "source": [
    "The code below groups the df DataFrame by the customer column, calculates two new columns called Frequency and Monetary, and renames the columns."
   ]
  },
  {
   "cell_type": "code",
   "execution_count": null,
   "id": "15e0cdd6",
   "metadata": {},
   "outputs": [
    {
     "data": {
      "text/html": [
       "<div>\n",
       "<style scoped>\n",
       "    .dataframe tbody tr th:only-of-type {\n",
       "        vertical-align: middle;\n",
       "    }\n",
       "\n",
       "    .dataframe tbody tr th {\n",
       "        vertical-align: top;\n",
       "    }\n",
       "\n",
       "    .dataframe thead th {\n",
       "        text-align: right;\n",
       "    }\n",
       "</style>\n",
       "<table border=\"1\" class=\"dataframe\">\n",
       "  <thead>\n",
       "    <tr style=\"text-align: right;\">\n",
       "      <th></th>\n",
       "      <th>Frequency</th>\n",
       "      <th>Monetary</th>\n",
       "    </tr>\n",
       "    <tr>\n",
       "      <th>customer</th>\n",
       "      <th></th>\n",
       "      <th></th>\n",
       "    </tr>\n",
       "  </thead>\n",
       "  <tbody>\n",
       "    <tr>\n",
       "      <th>Aaron Bergman</th>\n",
       "      <td>3</td>\n",
       "      <td>887</td>\n",
       "    </tr>\n",
       "    <tr>\n",
       "      <th>Aaron Hawkins</th>\n",
       "      <td>7</td>\n",
       "      <td>1744</td>\n",
       "    </tr>\n",
       "    <tr>\n",
       "      <th>Aaron Smayling</th>\n",
       "      <td>7</td>\n",
       "      <td>3050</td>\n",
       "    </tr>\n",
       "    <tr>\n",
       "      <th>Adam Bellavance</th>\n",
       "      <td>8</td>\n",
       "      <td>7756</td>\n",
       "    </tr>\n",
       "    <tr>\n",
       "      <th>Adam Hart</th>\n",
       "      <td>10</td>\n",
       "      <td>3249</td>\n",
       "    </tr>\n",
       "  </tbody>\n",
       "</table>\n",
       "</div>"
      ],
      "text/plain": [
       "                 Frequency  Monetary\n",
       "customer                            \n",
       "Aaron Bergman            3       887\n",
       "Aaron Hawkins            7      1744\n",
       "Aaron Smayling           7      3050\n",
       "Adam Bellavance          8      7756\n",
       "Adam Hart               10      3249"
      ]
     },
     "metadata": {},
     "output_type": "display_data"
    }
   ],
   "source": [
    "FM_Table = df.groupby('customer').agg({'order_id': lambda x:len(x),\n",
    "                                        'grand_total' : lambda x: x.sum()})\n",
    "\n",
    "FM_Table.rename(columns = {'order_id' : 'Frequency',\n",
    "                          'grand_total' : 'Monetary'}, inplace=True)\n",
    "\n",
    "FM_Table.head()"
   ]
  },
  {
   "cell_type": "markdown",
   "id": "b75a41d0",
   "metadata": {},
   "source": [
    "The code below merges the df_recency DataFrame and the FM_Table DataFrame on the customer column. This creates a new DataFrame called RFM_Table that contains all of the data from both DataFrames."
   ]
  },
  {
   "cell_type": "code",
   "execution_count": null,
   "id": "ab7c64bf",
   "metadata": {},
   "outputs": [
    {
     "data": {
      "text/html": [
       "<div>\n",
       "<style scoped>\n",
       "    .dataframe tbody tr th:only-of-type {\n",
       "        vertical-align: middle;\n",
       "    }\n",
       "\n",
       "    .dataframe tbody tr th {\n",
       "        vertical-align: top;\n",
       "    }\n",
       "\n",
       "    .dataframe thead th {\n",
       "        text-align: right;\n",
       "    }\n",
       "</style>\n",
       "<table border=\"1\" class=\"dataframe\">\n",
       "  <thead>\n",
       "    <tr style=\"text-align: right;\">\n",
       "      <th></th>\n",
       "      <th>customer</th>\n",
       "      <th>Recency</th>\n",
       "      <th>Frequency</th>\n",
       "      <th>Monetary</th>\n",
       "    </tr>\n",
       "  </thead>\n",
       "  <tbody>\n",
       "    <tr>\n",
       "      <th>0</th>\n",
       "      <td>Aaron Bergman</td>\n",
       "      <td>415</td>\n",
       "      <td>3</td>\n",
       "      <td>887</td>\n",
       "    </tr>\n",
       "    <tr>\n",
       "      <th>1</th>\n",
       "      <td>Aaron Hawkins</td>\n",
       "      <td>12</td>\n",
       "      <td>7</td>\n",
       "      <td>1744</td>\n",
       "    </tr>\n",
       "    <tr>\n",
       "      <th>2</th>\n",
       "      <td>Aaron Smayling</td>\n",
       "      <td>88</td>\n",
       "      <td>7</td>\n",
       "      <td>3050</td>\n",
       "    </tr>\n",
       "    <tr>\n",
       "      <th>3</th>\n",
       "      <td>Adam Bellavance</td>\n",
       "      <td>54</td>\n",
       "      <td>8</td>\n",
       "      <td>7756</td>\n",
       "    </tr>\n",
       "    <tr>\n",
       "      <th>4</th>\n",
       "      <td>Adam Hart</td>\n",
       "      <td>34</td>\n",
       "      <td>10</td>\n",
       "      <td>3249</td>\n",
       "    </tr>\n",
       "  </tbody>\n",
       "</table>\n",
       "</div>"
      ],
      "text/plain": [
       "          customer  Recency  Frequency  Monetary\n",
       "0    Aaron Bergman      415          3       887\n",
       "1    Aaron Hawkins       12          7      1744\n",
       "2   Aaron Smayling       88          7      3050\n",
       "3  Adam Bellavance       54          8      7756\n",
       "4        Adam Hart       34         10      3249"
      ]
     },
     "metadata": {},
     "output_type": "display_data"
    }
   ],
   "source": [
    "RFM_Table = df_recency.merge(FM_Table, left_on='customer', right_on='customer')\n",
    "\n",
    "RFM_Table.head()"
   ]
  },
  {
   "cell_type": "code",
   "execution_count": null,
   "id": "5d7076d6",
   "metadata": {},
   "outputs": [],
   "source": [
    "quantiles = RFM_Table.quantile(q = [0.25, 0.5, 0.75])\n",
    "quantiles = quantiles.to_dict()"
   ]
  },
  {
   "cell_type": "markdown",
   "id": "3e9459ac",
   "metadata": {},
   "source": [
    "This code first calculates the quantiles for each column in the RFM_Table DataFrame. The quantiles are calculated at three different levels:\n",
    "\n",
    "* 25%: The lower quartile.\n",
    "* 50%: The median.\n",
    "* 75%: The upper quartile.\n",
    "\n",
    "The code then converts the quantiles to a dictionary. The dictionary has the following keys:\n",
    "* Recency: The quantiles for the Recency column.\n",
    "* Frequency: The quantiles for the Frequency column.\n",
    "* Monetary: The quantiles for the Monetary column."
   ]
  },
  {
   "cell_type": "markdown",
   "id": "674e2d1c",
   "metadata": {},
   "source": [
    "The code below copies the RFM_Table DataFrame to a new DataFrame called segmented_rfm. This is done so that the original DataFrame can be preserved."
   ]
  },
  {
   "cell_type": "code",
   "execution_count": null,
   "id": "283e5e5f",
   "metadata": {},
   "outputs": [],
   "source": [
    "segmented_rfm = RFM_Table.copy()"
   ]
  },
  {
   "cell_type": "markdown",
   "id": "24a06c1d",
   "metadata": {},
   "source": [
    "The code below are used to assign RFM scores to each customer in the segmented_rfm DataFrame. The RScore() function calculates the RFM score for the Recency column, and the FMScore() function calculates the RFM score for the Frequency and Monetary columns.\n",
    "\n",
    "The RScore() function takes three arguments:\n",
    "\n",
    "* x: The value of the Recency column for the customer.\n",
    "* p: The name of the Recency column.\n",
    "* d: The dictionary of quantiles.\n",
    "\n",
    "The function first checks if the value of x is less than or equal to the lower quartile of the Recency column. If it is, the function returns a score of 1. If the value of x is greater than the lower quartile but less than or equal to the median, the function returns a score of 2. If the value of x is greater than the median but less than or equal to the upper quartile, the function returns a score of 3. Otherwise, the function returns a score of 4.\n",
    "\n",
    "The FMScore() function takes three arguments:\n",
    "\n",
    "* x: The value of the Frequency or Monetary column for the customer.\n",
    "* p: The name of the Frequency or Monetary column.\n",
    "* d: The dictionary of quantiles.\n",
    "\n",
    "The function first checks if the value of x is less than or equal to the lower quartile of the Frequency or Monetary column. If it is, the function returns a score of 4. If the value of x is greater than the lower quartile but less than or equal to the median, the function returns a score of 3. If the value of x is greater than the median but less than or equal to the upper quartile, the function returns a score of 2. Otherwise, the function returns a score of 1."
   ]
  },
  {
   "cell_type": "code",
   "execution_count": null,
   "id": "dd4930c4",
   "metadata": {},
   "outputs": [],
   "source": [
    "def RScore(x, p, d):\n",
    "    if x <= d[p][0.25]:\n",
    "        return 1\n",
    "    elif x <= x <= d[p][0.50]:\n",
    "        return 2\n",
    "    elif x <= d[p][0.75]:\n",
    "        return 3\n",
    "    else:\n",
    "        return 4\n",
    "    \n",
    "def FMScore(x, p, d):\n",
    "    if x <= d[p][0.25]:\n",
    "        return 4\n",
    "    elif x <= x <= d[p][0.50]:\n",
    "        return 3\n",
    "    elif x <= d[p][0.75]:\n",
    "        return 2\n",
    "    else:\n",
    "        return 1"
   ]
  },
  {
   "cell_type": "markdown",
   "id": "6d7b9165",
   "metadata": {},
   "source": [
    "To score each column of Recency, Frequency, and Monetary, we first determine a score range from 1 to 4. The highest score is 1 and the lowest score is 4.\n",
    "\n",
    "* Recency: This column measures how recently a customer has made a purchase. A score of 1 means the customer has made a purchase recently, and a score of 4 means the customer has not made a purchase in a long time.\n",
    "* Frequency: This column measures how often a customer makes purchases. A score of 1 means the customer makes purchases very often, and a score of 4 means the customer makes purchases very rarely.\n",
    "* Monetary: This column measures the total amount of money a customer has spent. A score of 1 means the customer has spent a lot of money, and a score of 4 means the customer has spent very little money.\n",
    "\n",
    "Once we have determined the score range for each column, we can assign a score to each customer. The score for each column is determined by comparing the customer's value in that column to the quantiles of the column. The quantiles are the values that divide the column into four equal parts."
   ]
  },
  {
   "cell_type": "markdown",
   "id": "10bb3647",
   "metadata": {},
   "source": [
    "The code below creates three new columns in the segmented_rfm DataFrame that contain the RFM scores for the Recency, Frequency, and Monetary columns. The scores are calculated using the RScore() and FMScore() functions, which take the customer's value in the column as input."
   ]
  },
  {
   "cell_type": "code",
   "execution_count": null,
   "id": "fac54626",
   "metadata": {},
   "outputs": [
    {
     "data": {
      "text/html": [
       "<div>\n",
       "<style scoped>\n",
       "    .dataframe tbody tr th:only-of-type {\n",
       "        vertical-align: middle;\n",
       "    }\n",
       "\n",
       "    .dataframe tbody tr th {\n",
       "        vertical-align: top;\n",
       "    }\n",
       "\n",
       "    .dataframe thead th {\n",
       "        text-align: right;\n",
       "    }\n",
       "</style>\n",
       "<table border=\"1\" class=\"dataframe\">\n",
       "  <thead>\n",
       "    <tr style=\"text-align: right;\">\n",
       "      <th></th>\n",
       "      <th>customer</th>\n",
       "      <th>Recency</th>\n",
       "      <th>Frequency</th>\n",
       "      <th>Monetary</th>\n",
       "      <th>R_quartile</th>\n",
       "      <th>F_quartile</th>\n",
       "      <th>M_quartile</th>\n",
       "    </tr>\n",
       "  </thead>\n",
       "  <tbody>\n",
       "    <tr>\n",
       "      <th>0</th>\n",
       "      <td>Aaron Bergman</td>\n",
       "      <td>415</td>\n",
       "      <td>3</td>\n",
       "      <td>887</td>\n",
       "      <td>4</td>\n",
       "      <td>4</td>\n",
       "      <td>4</td>\n",
       "    </tr>\n",
       "    <tr>\n",
       "      <th>1</th>\n",
       "      <td>Aaron Hawkins</td>\n",
       "      <td>12</td>\n",
       "      <td>7</td>\n",
       "      <td>1744</td>\n",
       "      <td>1</td>\n",
       "      <td>2</td>\n",
       "      <td>3</td>\n",
       "    </tr>\n",
       "    <tr>\n",
       "      <th>2</th>\n",
       "      <td>Aaron Smayling</td>\n",
       "      <td>88</td>\n",
       "      <td>7</td>\n",
       "      <td>3050</td>\n",
       "      <td>3</td>\n",
       "      <td>2</td>\n",
       "      <td>2</td>\n",
       "    </tr>\n",
       "    <tr>\n",
       "      <th>3</th>\n",
       "      <td>Adam Bellavance</td>\n",
       "      <td>54</td>\n",
       "      <td>8</td>\n",
       "      <td>7756</td>\n",
       "      <td>2</td>\n",
       "      <td>2</td>\n",
       "      <td>1</td>\n",
       "    </tr>\n",
       "    <tr>\n",
       "      <th>4</th>\n",
       "      <td>Adam Hart</td>\n",
       "      <td>34</td>\n",
       "      <td>10</td>\n",
       "      <td>3249</td>\n",
       "      <td>2</td>\n",
       "      <td>1</td>\n",
       "      <td>2</td>\n",
       "    </tr>\n",
       "  </tbody>\n",
       "</table>\n",
       "</div>"
      ],
      "text/plain": [
       "          customer  Recency  Frequency  Monetary  R_quartile  F_quartile  \\\n",
       "0    Aaron Bergman      415          3       887           4           4   \n",
       "1    Aaron Hawkins       12          7      1744           1           2   \n",
       "2   Aaron Smayling       88          7      3050           3           2   \n",
       "3  Adam Bellavance       54          8      7756           2           2   \n",
       "4        Adam Hart       34         10      3249           2           1   \n",
       "\n",
       "   M_quartile  \n",
       "0           4  \n",
       "1           3  \n",
       "2           2  \n",
       "3           1  \n",
       "4           2  "
      ]
     },
     "metadata": {},
     "output_type": "display_data"
    }
   ],
   "source": [
    "segmented_rfm['R_quartile'] = segmented_rfm['Recency'].apply(RScore, args=('Recency', quantiles))\n",
    "segmented_rfm['F_quartile'] = segmented_rfm['Frequency'].apply(FMScore, args=('Frequency', quantiles))\n",
    "segmented_rfm['M_quartile'] = segmented_rfm['Monetary'].apply(FMScore, args=('Monetary', quantiles))\n",
    "\n",
    "segmented_rfm.head()"
   ]
  },
  {
   "cell_type": "markdown",
   "id": "96ec3500",
   "metadata": {},
   "source": [
    "The code below creates a new column in the segmented_rfm DataFrame called RFM_Segment. This column is a concatenation of the R_quartile, F_quartile, and M_quartile columns. The map() function is used to convert the values in each column to strings before they are concatenated.\n"
   ]
  },
  {
   "cell_type": "code",
   "execution_count": null,
   "id": "c36dc8a9",
   "metadata": {},
   "outputs": [
    {
     "data": {
      "text/html": [
       "<div>\n",
       "<style scoped>\n",
       "    .dataframe tbody tr th:only-of-type {\n",
       "        vertical-align: middle;\n",
       "    }\n",
       "\n",
       "    .dataframe tbody tr th {\n",
       "        vertical-align: top;\n",
       "    }\n",
       "\n",
       "    .dataframe thead th {\n",
       "        text-align: right;\n",
       "    }\n",
       "</style>\n",
       "<table border=\"1\" class=\"dataframe\">\n",
       "  <thead>\n",
       "    <tr style=\"text-align: right;\">\n",
       "      <th></th>\n",
       "      <th>customer</th>\n",
       "      <th>Recency</th>\n",
       "      <th>Frequency</th>\n",
       "      <th>Monetary</th>\n",
       "      <th>R_quartile</th>\n",
       "      <th>F_quartile</th>\n",
       "      <th>M_quartile</th>\n",
       "      <th>RFM_Segment</th>\n",
       "    </tr>\n",
       "  </thead>\n",
       "  <tbody>\n",
       "    <tr>\n",
       "      <th>0</th>\n",
       "      <td>Aaron Bergman</td>\n",
       "      <td>415</td>\n",
       "      <td>3</td>\n",
       "      <td>887</td>\n",
       "      <td>4</td>\n",
       "      <td>4</td>\n",
       "      <td>4</td>\n",
       "      <td>444</td>\n",
       "    </tr>\n",
       "    <tr>\n",
       "      <th>1</th>\n",
       "      <td>Aaron Hawkins</td>\n",
       "      <td>12</td>\n",
       "      <td>7</td>\n",
       "      <td>1744</td>\n",
       "      <td>1</td>\n",
       "      <td>2</td>\n",
       "      <td>3</td>\n",
       "      <td>123</td>\n",
       "    </tr>\n",
       "    <tr>\n",
       "      <th>2</th>\n",
       "      <td>Aaron Smayling</td>\n",
       "      <td>88</td>\n",
       "      <td>7</td>\n",
       "      <td>3050</td>\n",
       "      <td>3</td>\n",
       "      <td>2</td>\n",
       "      <td>2</td>\n",
       "      <td>322</td>\n",
       "    </tr>\n",
       "    <tr>\n",
       "      <th>3</th>\n",
       "      <td>Adam Bellavance</td>\n",
       "      <td>54</td>\n",
       "      <td>8</td>\n",
       "      <td>7756</td>\n",
       "      <td>2</td>\n",
       "      <td>2</td>\n",
       "      <td>1</td>\n",
       "      <td>221</td>\n",
       "    </tr>\n",
       "    <tr>\n",
       "      <th>4</th>\n",
       "      <td>Adam Hart</td>\n",
       "      <td>34</td>\n",
       "      <td>10</td>\n",
       "      <td>3249</td>\n",
       "      <td>2</td>\n",
       "      <td>1</td>\n",
       "      <td>2</td>\n",
       "      <td>212</td>\n",
       "    </tr>\n",
       "  </tbody>\n",
       "</table>\n",
       "</div>"
      ],
      "text/plain": [
       "          customer  Recency  Frequency  Monetary  R_quartile  F_quartile  \\\n",
       "0    Aaron Bergman      415          3       887           4           4   \n",
       "1    Aaron Hawkins       12          7      1744           1           2   \n",
       "2   Aaron Smayling       88          7      3050           3           2   \n",
       "3  Adam Bellavance       54          8      7756           2           2   \n",
       "4        Adam Hart       34         10      3249           2           1   \n",
       "\n",
       "   M_quartile RFM_Segment  \n",
       "0           4         444  \n",
       "1           3         123  \n",
       "2           2         322  \n",
       "3           1         221  \n",
       "4           2         212  "
      ]
     },
     "metadata": {},
     "output_type": "display_data"
    }
   ],
   "source": [
    "segmented_rfm['RFM_Segment'] = segmented_rfm.R_quartile.map(str)+segmented_rfm.F_quartile.map(str)+segmented_rfm.M_quartile.map(str)\n",
    "\n",
    "segmented_rfm.head()"
   ]
  },
  {
   "cell_type": "markdown",
   "id": "2e40e331",
   "metadata": {},
   "source": [
    "The code below creates a new column in the segmented_rfm DataFrame called RFM_Score. This column is the sum of the R_quartile, F_quartile, and M_quartile columns. The sum() function is used to calculate the sum of the values in the three columns, and the axis=1 argument specifies that the sum should be calculated across the rows of the DataFrame. The new column is then printed to the console."
   ]
  },
  {
   "cell_type": "code",
   "execution_count": null,
   "id": "ef6fead8",
   "metadata": {},
   "outputs": [
    {
     "data": {
      "text/html": [
       "<div>\n",
       "<style scoped>\n",
       "    .dataframe tbody tr th:only-of-type {\n",
       "        vertical-align: middle;\n",
       "    }\n",
       "\n",
       "    .dataframe tbody tr th {\n",
       "        vertical-align: top;\n",
       "    }\n",
       "\n",
       "    .dataframe thead th {\n",
       "        text-align: right;\n",
       "    }\n",
       "</style>\n",
       "<table border=\"1\" class=\"dataframe\">\n",
       "  <thead>\n",
       "    <tr style=\"text-align: right;\">\n",
       "      <th></th>\n",
       "      <th>customer</th>\n",
       "      <th>Recency</th>\n",
       "      <th>Frequency</th>\n",
       "      <th>Monetary</th>\n",
       "      <th>R_quartile</th>\n",
       "      <th>F_quartile</th>\n",
       "      <th>M_quartile</th>\n",
       "      <th>RFM_Segment</th>\n",
       "      <th>RFM_Score</th>\n",
       "    </tr>\n",
       "  </thead>\n",
       "  <tbody>\n",
       "    <tr>\n",
       "      <th>0</th>\n",
       "      <td>Aaron Bergman</td>\n",
       "      <td>415</td>\n",
       "      <td>3</td>\n",
       "      <td>887</td>\n",
       "      <td>4</td>\n",
       "      <td>4</td>\n",
       "      <td>4</td>\n",
       "      <td>444</td>\n",
       "      <td>12</td>\n",
       "    </tr>\n",
       "    <tr>\n",
       "      <th>1</th>\n",
       "      <td>Aaron Hawkins</td>\n",
       "      <td>12</td>\n",
       "      <td>7</td>\n",
       "      <td>1744</td>\n",
       "      <td>1</td>\n",
       "      <td>2</td>\n",
       "      <td>3</td>\n",
       "      <td>123</td>\n",
       "      <td>6</td>\n",
       "    </tr>\n",
       "    <tr>\n",
       "      <th>2</th>\n",
       "      <td>Aaron Smayling</td>\n",
       "      <td>88</td>\n",
       "      <td>7</td>\n",
       "      <td>3050</td>\n",
       "      <td>3</td>\n",
       "      <td>2</td>\n",
       "      <td>2</td>\n",
       "      <td>322</td>\n",
       "      <td>7</td>\n",
       "    </tr>\n",
       "    <tr>\n",
       "      <th>3</th>\n",
       "      <td>Adam Bellavance</td>\n",
       "      <td>54</td>\n",
       "      <td>8</td>\n",
       "      <td>7756</td>\n",
       "      <td>2</td>\n",
       "      <td>2</td>\n",
       "      <td>1</td>\n",
       "      <td>221</td>\n",
       "      <td>5</td>\n",
       "    </tr>\n",
       "    <tr>\n",
       "      <th>4</th>\n",
       "      <td>Adam Hart</td>\n",
       "      <td>34</td>\n",
       "      <td>10</td>\n",
       "      <td>3249</td>\n",
       "      <td>2</td>\n",
       "      <td>1</td>\n",
       "      <td>2</td>\n",
       "      <td>212</td>\n",
       "      <td>5</td>\n",
       "    </tr>\n",
       "  </tbody>\n",
       "</table>\n",
       "</div>"
      ],
      "text/plain": [
       "          customer  Recency  Frequency  Monetary  R_quartile  F_quartile  \\\n",
       "0    Aaron Bergman      415          3       887           4           4   \n",
       "1    Aaron Hawkins       12          7      1744           1           2   \n",
       "2   Aaron Smayling       88          7      3050           3           2   \n",
       "3  Adam Bellavance       54          8      7756           2           2   \n",
       "4        Adam Hart       34         10      3249           2           1   \n",
       "\n",
       "   M_quartile RFM_Segment  RFM_Score  \n",
       "0           4         444         12  \n",
       "1           3         123          6  \n",
       "2           2         322          7  \n",
       "3           1         221          5  \n",
       "4           2         212          5  "
      ]
     },
     "metadata": {},
     "output_type": "display_data"
    }
   ],
   "source": [
    "segmented_rfm['RFM_Score'] = segmented_rfm[['R_quartile','F_quartile','M_quartile']].sum(axis=1)\n",
    "\n",
    "segmented_rfm.head()"
   ]
  },
  {
   "cell_type": "markdown",
   "id": "773f7166",
   "metadata": {},
   "source": [
    "# Label"
   ]
  },
  {
   "cell_type": "code",
   "execution_count": null,
   "id": "1f2778a6",
   "metadata": {},
   "outputs": [
    {
     "name": "stdout",
     "output_type": "stream",
     "text": [
      "Best Customers:  30\n",
      "Loyal Customers:  159\n",
      "Big Spenders:  198\n",
      "Almost Lost:  2\n",
      "Lost Customers:  31\n",
      "Lost Cheap Customers:  67\n"
     ]
    }
   ],
   "source": [
    "print(\"Best Customers: \",len(segmented_rfm[segmented_rfm['RFM_Segment']=='111']))\n",
    "print(\"Loyal Customers: \",len(segmented_rfm[segmented_rfm['F_quartile']==1]))\n",
    "print(\"Big Spenders: \",len(segmented_rfm[segmented_rfm['M_quartile']==1]))\n",
    "print(\"Almost Lost: \", len(segmented_rfm[segmented_rfm['RFM_Segment']=='134']))\n",
    "print(\"Lost Customers: \",len(segmented_rfm[segmented_rfm['RFM_Segment']=='344']))\n",
    "print(\"Lost Cheap Customers: \",len(segmented_rfm[segmented_rfm['RFM_Segment']=='444']))"
   ]
  },
  {
   "cell_type": "markdown",
   "id": "60a8f733",
   "metadata": {},
   "source": [
    "This output shows that there are 30 customers who are classified as \"Best Customers\". These customers have recently made a purchase, make purchases often, and spend a lot of money. There are also 160 customers who are classified as \"Loyal Customers\". These customers make purchases often, but they may not have recently made a purchase. There are also 198 customers who are classified as \"Big Spenders\". These customers spend a lot of money, but they may not make purchases very often.\n",
    "\n",
    "**The other segments represent customers who are at risk of churning**. The \"Almost Lost\" segment represents customers who have recently made a purchase, but they do not make purchases often and they do not spend a lot of money. The \"Lost Customers\" segment represents customers who have not made a purchase in a long time, they do not make purchases often, and they do not spend a lot of money. The \"Lost Cheap Customers\" segment represents customers who have not made a purchase in a long time, they do not make purchases often, and they spend very little money."
   ]
  },
  {
   "cell_type": "markdown",
   "id": "6cccd95c",
   "metadata": {},
   "source": [
    "The following labels are assigned:\n",
    "\n",
    "* \"Best Customers\": Customers with an RFM segment of \"111\".\n",
    "* \"Almost Lost\": Customers with an RFM segment of \"134\".\n",
    "* \"Lost Customers\": Customers with an RFM segment of \"344\".\n",
    "* \"Lost Cheap Customers\": Customers with an RFM segment of \"444\".\n",
    "* \"Loyal Customers\": Customers with a \"1\" in the F_quartile column.\n",
    "* \"Big Spenders\": Customers with a \"1\" in the M_quartile column.\n",
    "* \"Others\": Customers who do not fall into any of the other categories."
   ]
  },
  {
   "cell_type": "code",
   "execution_count": null,
   "id": "10ad9de8",
   "metadata": {},
   "outputs": [],
   "source": [
    "label = [0] * len(segmented_rfm)\n",
    "\n",
    "for i in range(0,len(segmented_rfm)):\n",
    "\n",
    "    if segmented_rfm['RFM_Segment'][i] == '111':\n",
    "        label[i] = \"Best Customers\"\n",
    "        \n",
    "    elif segmented_rfm['RFM_Segment'][i] == '134' :\n",
    "        label[i] = \"Almost Lost\"\n",
    "        \n",
    "    elif segmented_rfm['RFM_Segment'][i] == '344':\n",
    "        label[i] = \"Lost Customers\"\n",
    "    \n",
    "    elif segmented_rfm['RFM_Segment'][i] == '444':\n",
    "        label[i] = \"Lost Cheap Customers\"\n",
    "\n",
    "    elif segmented_rfm['F_quartile'][i] == 1:\n",
    "        label[i] = \"Loyal Customers\"  \n",
    "    \n",
    "    elif segmented_rfm['M_quartile'][i] == 1:\n",
    "        label[i] = \"Big Spenders\"   \n",
    "        \n",
    "    else:\n",
    "        label[i] = \"Others\""
   ]
  },
  {
   "cell_type": "code",
   "execution_count": null,
   "id": "8123d0ff",
   "metadata": {},
   "outputs": [],
   "source": [
    "segmented_rfm['Label'] = label"
   ]
  },
  {
   "cell_type": "code",
   "execution_count": null,
   "id": "8b422bed",
   "metadata": {},
   "outputs": [
    {
     "data": {
      "text/plain": [
       "Others                  409\n",
       "Loyal Customers         129\n",
       "Big Spenders            125\n",
       "Lost Cheap Customers     67\n",
       "Lost Customers           31\n",
       "Best Customers           30\n",
       "Almost Lost               2\n",
       "Name: Label, dtype: int64"
      ]
     },
     "metadata": {},
     "output_type": "display_data"
    }
   ],
   "source": [
    "segmented_rfm['Label'].value_counts()"
   ]
  },
  {
   "cell_type": "code",
   "execution_count": null,
   "id": "8b3730a0",
   "metadata": {},
   "outputs": [
    {
     "data": {
      "image/png": "[encoded data removed]",
      "text/plain": [
       "<Figure size 864x576 with 1 Axes>"
      ]
     },
     "metadata": {},
     "output_type": "display_data"
    }
   ],
   "source": [
    "sq1 = segmented_rfm.groupby('Label')['customer'].nunique().sort_values(ascending=False).reset_index()\n",
    "sq1.drop([0], inplace = True)\n",
    "\n",
    "plt.figure(figsize = (12,8))\n",
    "percentage = get_percent(data=sq1 ,values=\"customer\")\n",
    "\n",
    "ax = sns.barplot(data = sq1, x = \"Label\", y = \"customer\", palette = \"mako\")\n",
    "patches = ax.patches\n",
    "for i in range(len(patches)):\n",
    "   x = patches[i].get_x() + patches[i].get_width()/2\n",
    "   y = patches[i].get_height()+.9\n",
    "   ax.annotate('{:.1f}%'.format(percentage[i+1]), (x, y), ha='center')\n",
    "plt.ylabel('Customer')\n",
    "plt.show()"
   ]
  },
  {
   "cell_type": "markdown",
   "id": "913dae89",
   "metadata": {},
   "source": [
    "The chart shows the results of customer clustering, which is a process of grouping customers together based on their RFM (Recency, Frequency, Monetary) scores. The RFM scores are calculated based on how recently a customer has made a purchase, how often they make purchases, and how much money they spend.\n",
    "\n",
    "The chart shows that the customers have been clustered into 6 categories:\n",
    "\n",
    "* Loyal Customers: These customers make frequent purchases and have a large monetary value. They represent 33.6% of all customers.\n",
    "* Big Spenders: These customers have a large monetary value, but they may not make purchases very often. They represent 32.6% of all customers.\n",
    "* Lost Cheap Customers: These customers have not made a purchase in a long time, they rarely make purchases, and they do not have a large monetary value. They represent 17.4% of all customers.\n",
    "* Lost Customers: These customers have not made a purchase in a long time, they rarely make purchases, and they have a low monetary value. They represent 8.1% of all customers.\n",
    "* Best Customers: These customers have recently made a purchase, they make frequent purchases, and they have a large monetary value. They represent 7.8% of all customers.\n",
    "* Almost Lost: These customers have recently made a purchase, they make purchases quite often, but they have a low monetary value. They represent 0.5% of all customers.\n",
    "\n",
    "The remaining 52% of customers do not fit into any of these categories and are labeled as \"Others.\""
   ]
  },
  {
   "cell_type": "markdown",
   "id": "c1f2da43",
   "metadata": {},
   "source": [
    "# Result"
   ]
  },
  {
   "cell_type": "markdown",
   "id": "035fd4c2",
   "metadata": {},
   "source": [
    "- In 2011, **February had the lowest total sales of 1%**, while **September had the highest total sales of 16.9%**. **September was the month that experienced the biggest increase in total sales of 11.1%**. **October was the month that experienced the biggest decrease in total sales of 10.4%**.\n",
    "\n",
    "\n",
    "- In 2012, **February had the lowest grand total of 2.6%**, while **November had the highest grand total of 16.1%**. **October was the month that experienced the biggest increase in grand total of 9.4%**, from 6.7% in September to 16.1% in October. **October was also the month that experienced the biggest decrease in grand total of 7%**, from 13.7% in September to 6.7% in October.\n",
    "\n",
    "\n",
    "- In 2013, **January had the lowest grand total of 3%**, while **December had the highest grand total of 16%**. **September was the month that experienced the biggest increase in grand total of 6.5%**, from 5.5% in August to 12% in September. **June was the month that experienced the biggest decrease in grand total of 2.8%**, from 9.3% in May to 6.5% in June.\n",
    "\n",
    "\n",
    "- In 2014, **February had the lowest grand total of 2.8%**, while **November had the highest grand total of 15.3%**. **November was the month that experienced the largest increase in grand total of 4.7%**, from 10.6% in October to 15.3% in November. **February was the month that experienced the biggest decrease in grand total of 3.3%**, from 6.1% in January to 2.8% in February.\n",
    "\n",
    "\n",
    "The model was also able to identify 4 trends in the monthly income data:\n",
    "\n",
    "- February to March: There is an increase in total income from February to March in each year.\n",
    "\n",
    "\n",
    "- August to September: There is also an increase in total income from August to September, but from September to October, there is a decrease.\n",
    "\n",
    "\n",
    "- October to November: In October to November, there is an increase in total income.\n",
    "\n",
    "\n",
    "- Lowest and Highest Grand Total: The lowest grand total was in 2012 at 20.5%, while the highest grand total was in 2014 at 32%.\n",
    "\n",
    "The customer segments are:\n",
    "\n",
    "- Loyal Customers: These customers make frequent purchases and have a large monetary value. They represent 33.6% of all customers.\n",
    "\n",
    "\n",
    "- Big Spenders: These customers have a large monetary value, but they may not make purchases very often. They represent 32.6% of all customers.\n",
    "\n",
    "\n",
    "- Lost Cheap Customers: These customers have not made a purchase in a long time, they rarely make purchases, and they do not have a large monetary value. They represent 17.4% of all customers.\n",
    "\n",
    "\n",
    "- Lost Customers: These customers have not made a purchase in a long time, they rarely make purchases, and they have a low monetary value. They represent 8.1% of all customers.\n",
    "\n",
    "\n",
    "- Best Customers: These customers have recently made a purchase, they make frequent purchases, and they have a large monetary value. They represent 7.8% of all customers.\n",
    "\n",
    "\n",
    "- Almost Lost: These customers have recently made a purchase, they make purchases quite often, but they have a low monetary value. They represent 0.5% of all customers."
   ]
  },
  {
   "cell_type": "markdown",
   "id": "621718a9",
   "metadata": {},
   "source": [
    "# Recommendation "
   ]
  },
  {
   "cell_type": "markdown",
   "id": "615fff12",
   "metadata": {},
   "source": [
    "- Target marketing campaigns to specific customer segments: A business could target \"Loyal Customers\" with promotional offers for their products or services. This could include discounts, free shipping, or early access to new products. The business could also target \"Almost Lost\" customers with loyalty programs that offer rewards for making repeat purchases, as these customers are likely to churn.\n",
    "\n",
    "\n",
    "- Monitor trends in monthly income. Businesses can monitor the trends in monthly income identified by the model to track the performance of their marketing campaigns. For example, businesses can look for increases in total income from February to March, as this may indicate that their marketing campaigns are effective in increasing sales.\n",
    "\n",
    "\n",
    "- Make adjustments to marketing campaigns as needed. Businesses can make adjustments to their marketing campaigns as needed based on the findings of the machine learning model. For example, businesses might increase the frequency of their promotional offers to \"Loyal Customers\" if they see that these customers are responding well to the offers. Businesses might also decrease the frequency of their marketing campaigns to \"Almost Lost\" customers if they see that these customers are not responding well to the campaigns."
   ]
  }
 ],
 "metadata": {
  "colab": {
   "provenance": []
  },
  "kernelspec": {
   "display_name": "Python 3 (ipykernel)",
   "language": "python",
   "name": "python3"
  },
  "language_info": {
   "codemirror_mode": {
    "name": "ipython",
    "version": 3
   },
   "file_extension": ".py",
   "mimetype": "text/x-python",
   "name": "python",
   "nbconvert_exporter": "python",
   "pygments_lexer": "ipython3",
   "version": "3.9.12"
  }
 },
 "nbformat": 4,
 "nbformat_minor": 5
}
